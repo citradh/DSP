{
  "cells": [
    {
      "cell_type": "markdown",
      "metadata": {
        "id": "XG9gfgue4Gx0"
      },
      "source": [
        "# [Numbers](https://docs.python.org/3/library/stdtypes.html#numeric-types-int-float-complex)"
      ]
    },
    {
      "cell_type": "markdown",
      "metadata": {
        "id": "4Dnu6wRJ4Gx3"
      },
      "source": [
        "## `int`\n",
        "\n",
        "- .... -4, -3, -2, -1, 0, 1, 2, 3, 4 ....\n",
        "- Python integers can have an arbitrary number of digits (only limited by machine memory)\n",
        "- Can be preceded by a plus (+) or minus (-)"
      ]
    },
    {
      "cell_type": "code",
      "execution_count": 1,
      "metadata": {
        "scrolled": true,
        "id": "K5yfgWRq4Gx3",
        "outputId": "c8577102-bde6-4ade-d06f-f7ba3bd4fcd1",
        "colab": {
          "base_uri": "https://localhost:8080/"
        }
      },
      "outputs": [
        {
          "output_type": "stream",
          "name": "stdout",
          "text": [
            "value: 6, type: <class 'int'>\n"
          ]
        }
      ],
      "source": [
        "my_int = 6\n",
        "print('value: {}, type: {}'.format(my_int, type(my_int)))"
      ]
    },
    {
      "cell_type": "markdown",
      "metadata": {
        "id": "91pQWcHF4Gx4"
      },
      "source": [
        "## `float`\n",
        "\n",
        "- Decimal numbers are represented using float – contain “.” or “e”\n",
        "- Examples: 3.1415 , -.00134, 124e3 = 124∙10^3"
      ]
    },
    {
      "cell_type": "code",
      "execution_count": 2,
      "metadata": {
        "id": "UGrxiRfi4Gx4",
        "outputId": "77698b27-2ebb-4ade-ad2e-b0908ded5fc8",
        "colab": {
          "base_uri": "https://localhost:8080/"
        }
      },
      "outputs": [
        {
          "output_type": "execute_result",
          "data": {
            "text/plain": [
              "float"
            ]
          },
          "metadata": {},
          "execution_count": 2
        }
      ],
      "source": [
        "type(9.0)"
      ]
    },
    {
      "cell_type": "code",
      "execution_count": 3,
      "metadata": {
        "scrolled": true,
        "id": "wmrSZZLn4Gx5",
        "outputId": "d8a74431-4531-48d9-f2c0-8c78786265a3",
        "colab": {
          "base_uri": "https://localhost:8080/"
        }
      },
      "outputs": [
        {
          "output_type": "stream",
          "name": "stdout",
          "text": [
            "value: 6.0, type: <class 'float'>\n"
          ]
        }
      ],
      "source": [
        "my_float = float(my_int)\n",
        "print('value: {}, type: {}'.format(my_float, type(my_float)))"
      ]
    },
    {
      "cell_type": "markdown",
      "metadata": {
        "id": "D16RedXE4Gx5"
      },
      "source": [
        "Note that division of `int`s produces `float`:"
      ]
    },
    {
      "cell_type": "code",
      "execution_count": 4,
      "metadata": {
        "id": "lkpJ5Idw4Gx5",
        "outputId": "3469e634-118c-42d3-fa97-71dae8b66015",
        "colab": {
          "base_uri": "https://localhost:8080/"
        }
      },
      "outputs": [
        {
          "output_type": "stream",
          "name": "stdout",
          "text": [
            "1.0\n",
            "1.2\n"
          ]
        }
      ],
      "source": [
        "print(1 / 1)\n",
        "print(6 / 5)"
      ]
    },
    {
      "cell_type": "markdown",
      "metadata": {
        "id": "Vk9IQZNQ4Gx5"
      },
      "source": [
        "Be aware of the binary floating-point pitfalls (see [Decimal](#decimal) for workaround):\n",
        "\n",
        "- *floats use approximations for speed*"
      ]
    },
    {
      "cell_type": "code",
      "execution_count": 5,
      "metadata": {
        "id": "9k1Of7VR4Gx5",
        "outputId": "4428c45b-96cc-45b3-a480-e2018e08eba8",
        "colab": {
          "base_uri": "https://localhost:8080/"
        }
      },
      "outputs": [
        {
          "output_type": "stream",
          "name": "stdout",
          "text": [
            "0.100000000000000006\n"
          ]
        }
      ],
      "source": [
        "print(f\"{0.1:.18f}\")"
      ]
    },
    {
      "cell_type": "code",
      "execution_count": 6,
      "metadata": {
        "scrolled": true,
        "id": "FZX21tKC4Gx6",
        "outputId": "8a577dd6-396d-43b5-dc17-5db7cef0cabe",
        "colab": {
          "base_uri": "https://localhost:8080/"
        }
      },
      "outputs": [
        {
          "output_type": "stream",
          "name": "stdout",
          "text": [
            "False\n",
            "0.30000000000000004\n"
          ]
        }
      ],
      "source": [
        "val = 0.1 + 0.1 + 0.1\n",
        "print(val == 0.3)\n",
        "print(val)"
      ]
    },
    {
      "cell_type": "markdown",
      "metadata": {
        "id": "-zeavAhN4Gx6"
      },
      "source": [
        "## Floor division `//`, modulus `%`, power `**`"
      ]
    },
    {
      "cell_type": "markdown",
      "metadata": {
        "id": "rJMebAyl4Gx6"
      },
      "source": [
        "In Python, the floor division operator (//) is used to perform division and then return the largest possible integer. This means that the decimal part of the result is discarded."
      ]
    },
    {
      "cell_type": "code",
      "execution_count": 7,
      "metadata": {
        "id": "w1-G-7_Q4Gx6",
        "outputId": "3003b08e-a90a-4e54-b777-94a8325f03fe",
        "colab": {
          "base_uri": "https://localhost:8080/"
        }
      },
      "outputs": [
        {
          "output_type": "execute_result",
          "data": {
            "text/plain": [
              "1"
            ]
          },
          "metadata": {},
          "execution_count": 7
        }
      ],
      "source": [
        "7 // 5 # floor division"
      ]
    },
    {
      "cell_type": "markdown",
      "metadata": {
        "id": "cLqv9nf84Gx6"
      },
      "source": [
        "\"Regular division\""
      ]
    },
    {
      "cell_type": "code",
      "execution_count": 8,
      "metadata": {
        "id": "GXl67ydr4Gx6",
        "outputId": "27206a0a-1725-48a0-ee88-1360b4888b11",
        "colab": {
          "base_uri": "https://localhost:8080/"
        }
      },
      "outputs": [
        {
          "output_type": "execute_result",
          "data": {
            "text/plain": [
              "1.4"
            ]
          },
          "metadata": {},
          "execution_count": 8
        }
      ],
      "source": [
        "7/5 # regular division"
      ]
    },
    {
      "cell_type": "markdown",
      "metadata": {
        "id": "luk3-Kjp4Gx6"
      },
      "source": [
        "In Python, the modulus operator (%) is used to return the remainder of a division operation. It operates on two numbers and returns the remainder when the first number is divided by the second."
      ]
    },
    {
      "cell_type": "code",
      "execution_count": 9,
      "metadata": {
        "id": "y07iwtTV4Gx6",
        "outputId": "3c8624ee-27ef-44a4-88e7-1bb8408073d7",
        "colab": {
          "base_uri": "https://localhost:8080/"
        }
      },
      "outputs": [
        {
          "output_type": "execute_result",
          "data": {
            "text/plain": [
              "2"
            ]
          },
          "metadata": {},
          "execution_count": 9
        }
      ],
      "source": [
        "7 % 5 # modulus"
      ]
    },
    {
      "cell_type": "markdown",
      "metadata": {
        "id": "EPHr5nwC4Gx6"
      },
      "source": [
        "Power calculations"
      ]
    },
    {
      "cell_type": "code",
      "execution_count": 10,
      "metadata": {
        "id": "BxgCYqn14Gx6",
        "outputId": "84afdf68-c725-43b1-9861-9ceaaa36c3dd",
        "colab": {
          "base_uri": "https://localhost:8080/"
        }
      },
      "outputs": [
        {
          "output_type": "execute_result",
          "data": {
            "text/plain": [
              "8"
            ]
          },
          "metadata": {},
          "execution_count": 10
        }
      ],
      "source": [
        "2 ** 3 # power"
      ]
    },
    {
      "cell_type": "markdown",
      "metadata": {
        "id": "fEqx83VJ4Gx7"
      },
      "source": [
        "<a id='decimal'></a>\n",
        "## [`decimal.Decimal`](https://docs.python.org/3/library/decimal.html)\n",
        "\n",
        "\n",
        "Decimals are similar to floats, but it exist in Python to solve the precision issues of floats."
      ]
    },
    {
      "cell_type": "code",
      "execution_count": 11,
      "metadata": {
        "scrolled": true,
        "id": "RO5-RpDg4Gx7"
      },
      "outputs": [],
      "source": [
        "from decimal import Decimal"
      ]
    },
    {
      "cell_type": "code",
      "execution_count": 13,
      "metadata": {
        "scrolled": true,
        "id": "7VTv17Tc4Gx7",
        "outputId": "53a4a83b-0b41-4a50-fa63-524ddcf4a7df",
        "colab": {
          "base_uri": "https://localhost:8080/"
        }
      },
      "outputs": [
        {
          "output_type": "stream",
          "name": "stdout",
          "text": [
            "from float: 0.1000000000000000055511151231257827021181583404541015625\n",
            "from string: 0.1\n"
          ]
        }
      ],
      "source": [
        "from_float = Decimal(0.1)\n",
        "from_str = Decimal('0.1')\n",
        "print('from float: {}\\nfrom string: {}'.format(from_float, from_str))"
      ]
    },
    {
      "cell_type": "code",
      "execution_count": 14,
      "metadata": {
        "scrolled": true,
        "id": "dbXz7Jg-4Gx7",
        "outputId": "1a7eba8f-93e0-42ac-93a6-36398785c73d",
        "colab": {
          "base_uri": "https://localhost:8080/"
        }
      },
      "outputs": [
        {
          "output_type": "stream",
          "name": "stdout",
          "text": [
            "True\n"
          ]
        }
      ],
      "source": [
        "my_decimal = Decimal('0.1')\n",
        "sum_of_decimals = my_decimal + my_decimal + my_decimal\n",
        "print(sum_of_decimals == Decimal('0.3'))"
      ]
    },
    {
      "cell_type": "markdown",
      "metadata": {
        "id": "wkBpiQnW4Gx7"
      },
      "source": [
        "## Operator precedence in calculations\n",
        "Mathematical operator precedence applies. Use brackets if you want to change the execution order:"
      ]
    },
    {
      "cell_type": "code",
      "execution_count": 12,
      "metadata": {
        "id": "s7AT24du4Gx7",
        "outputId": "fbc93332-0bb8-42bd-b575-5aadd721d92e",
        "colab": {
          "base_uri": "https://localhost:8080/"
        }
      },
      "outputs": [
        {
          "output_type": "stream",
          "name": "stdout",
          "text": [
            "3.0\n",
            "2.5\n"
          ]
        }
      ],
      "source": [
        "print(1 + 2**2 * 3 / 6) # 1 + 4 * 3 / 6 == 1 + 12 / 6 == 1 + 2\n",
        "print((1 + 2**2) * 3 / 6)"
      ]
    },
    {
      "cell_type": "markdown",
      "metadata": {
        "id": "qdZTjPmo4Gx7"
      },
      "source": [
        "## Switch between types\n",
        "Change between the different data types.\n",
        "`int()`, `float()`, `str()`\n",
        "\n",
        "when changing type, int() cuts off the decimals from float\n",
        "bc Python is a dynamic language where the data types can be changed, it's good but also sth that we have to take care of"
      ]
    },
    {
      "cell_type": "code",
      "execution_count": 15,
      "metadata": {
        "id": "0m4tU7gq4Gx7",
        "outputId": "a7993d9c-11dc-4c77-d4fe-aa34e45c461f",
        "colab": {
          "base_uri": "https://localhost:8080/"
        }
      },
      "outputs": [
        {
          "output_type": "stream",
          "name": "stdout",
          "text": [
            "float to integer: 7\n",
            "correctly rounded float to integer: 8\n",
            "string to float: 7.56\n",
            "integer to string: 2\n",
            "float to string: 6.7\n"
          ]
        }
      ],
      "source": [
        "print(\"float to integer:\", int(7.56))\n",
        "print(\"correctly rounded float to integer:\", int(round(7.56)))\n",
        "print(\"string to float:\", float(\"7.56\"))\n",
        "print(\"integer to string:\", str(2))\n",
        "print(\"float to string:\", str(6.7))"
      ]
    },
    {
      "cell_type": "markdown",
      "metadata": {
        "id": "4iBB82nF4Gx7"
      },
      "source": [
        "return to [overview](00_overview.ipynb)"
      ]
    }
  ],
  "metadata": {
    "kernelspec": {
      "display_name": "Python 3 (ipykernel)",
      "language": "python",
      "name": "python3"
    },
    "language_info": {
      "codemirror_mode": {
        "name": "ipython",
        "version": 3
      },
      "file_extension": ".py",
      "mimetype": "text/x-python",
      "name": "python",
      "nbconvert_exporter": "python",
      "pygments_lexer": "ipython3",
      "version": "3.10.12"
    },
    "colab": {
      "provenance": []
    }
  },
  "nbformat": 4,
  "nbformat_minor": 0
}