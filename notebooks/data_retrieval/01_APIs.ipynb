{
  "cells": [
    {
      "cell_type": "markdown",
      "id": "95adbd63",
      "metadata": {
        "id": "95adbd63"
      },
      "source": [
        "# APIs for data retrieval"
      ]
    },
    {
      "cell_type": "markdown",
      "id": "a7fb0c25",
      "metadata": {
        "id": "a7fb0c25"
      },
      "source": [
        "An Application Programming Interface, commonly known as API, is a set of protocols, routines, and tools for building software applications. APIs allow different software systems to communicate with each other and exchange data in a standardized and efficient way.\n",
        "\n",
        "APIs for retrieving data enable developers to access and extract information from various sources such as databases, web services, or applications. These APIs often provide a structured and consistent way of accessing data, making it easier for developers to consume and use the data in their applications.\n",
        "\n",
        "APIs for retrieving data can be used for a variety of purposes, such as gathering information for business intelligence, analyzing user behavior, or integrating data from different sources into a single application. These APIs often use standardized data formats, such as JSON or XML, to ensure compatibility and interoperability between different systems.\n",
        "\n",
        "As the amount of data available online continues to grow, APIs for retrieving data have become an essential tool for developers to access and analyze this data. By leveraging these APIs, developers can quickly and easily retrieve the data they need, without having to manually extract and process it themselves."
      ]
    },
    {
      "cell_type": "markdown",
      "id": "379e4bc6",
      "metadata": {
        "id": "379e4bc6"
      },
      "source": [
        "### API types\n",
        "There are several types of APIs available, but two of the most commonly used types are REST API and HTTP API.\n",
        "\n",
        "- REST API (Representational State Transfer API):\n",
        "REST stands for Representational State Transfer, and it's a set of architectural principles for building web services. A REST API is a type of web service that follows the REST architecture principles. REST APIs use HTTP methods (GET, POST, PUT, DELETE, etc.) to access and manipulate resources, which are identified by URIs (Uniform Resource Identifiers). REST APIs typically return data in JSON or XML format and are widely used for building web and mobile applications.\n",
        "\n",
        "\n",
        "- HTTP API (Hypertext Transfer Protocol API):\n",
        "HTTP stands for Hypertext Transfer Protocol, which is the protocol used for transferring data over the World Wide Web. An HTTP API is a type of web service that uses HTTP methods to access and manipulate resources. An HTTP API can be RESTful, but it doesn't have to be. HTTP APIs are often used for simple operations like CRUD (Create, Read, Update, Delete) on resources and return data in JSON or XML format.\n",
        "\n",
        "\n",
        "Other types of APIs include SOAP (Simple Object Access Protocol), GraphQL, and WebSockets. SOAP is an older protocol used for building web services, while GraphQL is a newer API technology that allows clients to specify the data they need and receive it in a single request. WebSockets are used for real-time, two-way communication between a client and a server."
      ]
    },
    {
      "cell_type": "markdown",
      "id": "66cd8504",
      "metadata": {
        "id": "66cd8504"
      },
      "source": [
        "### python and APIs"
      ]
    },
    {
      "cell_type": "markdown",
      "id": "b8aa0559",
      "metadata": {
        "id": "b8aa0559"
      },
      "source": [
        "Python is a popular programming language that provides powerful tools for interacting with APIs. Here are the steps to interact with APIs using Python:\n",
        "\n",
        "1. Import the necessary libraries: Python has several libraries that make it easy to interact with APIs, including requests, json, and urllib. Before making any API requests, you need to import the appropriate libraries.\n",
        "\n",
        "2. Find the API endpoint: The endpoint is the URL that you will use to send your API requests. It's essential to understand the API documentation to find the correct endpoint for the specific data you want to retrieve.\n",
        "\n",
        "3. Send a request: Once you have the endpoint, you can use Python's requests library to send an HTTP request to the API endpoint. The requests library has several methods for sending different types of HTTP requests, including GET, POST, PUT, DELETE, and more.\n",
        "\n",
        "4. Parse the response: The API response will typically be in JSON format. Python's json library can be used to parse the JSON data and convert it into a Python dictionary that you can easily work with in your code.\n",
        "\n",
        "5. Extract the data: Once you have the API response in a Python dictionary, you can extract the data you need and use it in your application.\n",
        "\n",
        "Python's ease of use and powerful libraries make it an excellent language for interacting with APIs. With just a few lines of code, you can send requests to APIs, parse the response data, and extract the information you need to build powerful applications."
      ]
    },
    {
      "cell_type": "markdown",
      "id": "6dae10ef",
      "metadata": {
        "id": "6dae10ef"
      },
      "source": [
        "### Using the request package"
      ]
    },
    {
      "cell_type": "markdown",
      "id": "faf67fa6",
      "metadata": {
        "id": "faf67fa6"
      },
      "source": [
        "To do this, we need to know how to send requests first. We will use an amazing package called [`requests`](http://docs.python-requests.org/en/master/). If you do not have it installed, please install it using e.g. `poetry add` (in your command prompt or terminal):\n",
        "\n",
        "\n",
        "```$ poetry add requests``` or ```$ pip install requests```\n"
      ]
    },
    {
      "cell_type": "code",
      "execution_count": 21,
      "id": "a100dc17",
      "metadata": {
        "id": "a100dc17"
      },
      "outputs": [],
      "source": [
        "import requests # library for making HTTP requests\n",
        "import pandas as pd # library for data analysis\n",
        "import datetime as dt # library for handling date and time objects"
      ]
    },
    {
      "cell_type": "markdown",
      "id": "5903fafa",
      "metadata": {
        "id": "5903fafa"
      },
      "source": [
        "###### open DMI weather data\n",
        "\n",
        "Go to the [documentation](https://opendatadocs.dmi.govcloud.dk/en/DMIOpenData)\n",
        "\n",
        "Using weather as an example, we should first know what is the request URL (where the request goes to), with what parameters(e.g., API key and stationID). In our case, we know that our API key and the stationId to query so we can do the following.\n",
        "\n",
        "You will have to create a user and retrieve an API key for the API you want to use [how to](https://opendatadocs.dmi.govcloud.dk/Authentication)\n",
        "\n",
        "I have saved my API key in an file ```.env```\n",
        "    \n",
        "    api_key = your_api_key\n",
        "\n",
        "Specifically we will look at [Meteorological Observation](https://opendatadocs.dmi.govcloud.dk/en/APIs/Meteorological_Observation_API)"
      ]
    },
    {
      "cell_type": "code",
      "execution_count": 12,
      "id": "170dbb23-721d-453f-859a-aa7aed3dfcc2",
      "metadata": {
        "id": "170dbb23-721d-453f-859a-aa7aed3dfcc2",
        "outputId": "410a83a6-d2b8-4e65-8ae8-1e1965b876c7",
        "colab": {
          "base_uri": "https://localhost:8080/",
          "height": 393
        }
      },
      "outputs": [
        {
          "output_type": "error",
          "ename": "ModuleNotFoundError",
          "evalue": "No module named 'dotenv'",
          "traceback": [
            "\u001b[0;31m---------------------------------------------------------------------------\u001b[0m",
            "\u001b[0;31mModuleNotFoundError\u001b[0m                       Traceback (most recent call last)",
            "\u001b[0;32m<ipython-input-12-c79c46873d88>\u001b[0m in \u001b[0;36m<cell line: 0>\u001b[0;34m()\u001b[0m\n\u001b[0;32m----> 1\u001b[0;31m \u001b[0;32mfrom\u001b[0m \u001b[0mdotenv\u001b[0m \u001b[0;32mimport\u001b[0m \u001b[0mload_dotenv\u001b[0m\u001b[0;34m\u001b[0m\u001b[0;34m\u001b[0m\u001b[0m\n\u001b[0m\u001b[1;32m      2\u001b[0m \u001b[0;32mimport\u001b[0m \u001b[0mos\u001b[0m\u001b[0;34m\u001b[0m\u001b[0;34m\u001b[0m\u001b[0m\n\u001b[1;32m      3\u001b[0m \u001b[0;34m\u001b[0m\u001b[0m\n\u001b[1;32m      4\u001b[0m \u001b[0mload_dotenv\u001b[0m\u001b[0;34m(\u001b[0m\u001b[0;34m)\u001b[0m\u001b[0;34m\u001b[0m\u001b[0;34m\u001b[0m\u001b[0m\n\u001b[1;32m      5\u001b[0m \u001b[0mapi_key\u001b[0m \u001b[0;34m=\u001b[0m \u001b[0mos\u001b[0m\u001b[0;34m.\u001b[0m\u001b[0menviron\u001b[0m\u001b[0;34m[\u001b[0m\u001b[0;34m'api_key'\u001b[0m\u001b[0;34m]\u001b[0m\u001b[0;34m\u001b[0m\u001b[0;34m\u001b[0m\u001b[0m\n",
            "\u001b[0;31mModuleNotFoundError\u001b[0m: No module named 'dotenv'",
            "",
            "\u001b[0;31m---------------------------------------------------------------------------\u001b[0;32m\nNOTE: If your import is failing due to a missing package, you can\nmanually install dependencies using either !pip or !apt.\n\nTo view examples of installing some common dependencies, click the\n\"Open Examples\" button below.\n\u001b[0;31m---------------------------------------------------------------------------\u001b[0m\n"
          ],
          "errorDetails": {
            "actions": [
              {
                "action": "open_url",
                "actionText": "Open Examples",
                "url": "/notebooks/snippets/importing_libraries.ipynb"
              }
            ]
          }
        }
      ],
      "source": [
        "from dotenv import load_dotenv\n",
        "import os\n",
        "\n",
        "load_dotenv()\n",
        "api_key = os.environ['api_key']"
      ]
    },
    {
      "cell_type": "markdown",
      "source": [
        "# Alternative: Read the keys and tokens into a dictionary\n",
        "my_dict = {}\n",
        "\n",
        "# with open(\"./.env\", \"r\") as f:\n",
        "for line in f:\n",
        "        key,val = line.split('=')\n",
        "        my_dict[key.strip()] = val.strip()\n",
        "        \n",
        "api_key = my_dict['api_key']"
      ],
      "metadata": {
        "id": "12a3544b"
      },
      "id": "12a3544b"
    },
    {
      "cell_type": "code",
      "execution_count": 17,
      "id": "48aebd6f",
      "metadata": {
        "id": "48aebd6f"
      },
      "outputs": [],
      "source": [
        "stationId = '06074' # list of stationId: https://confluence.govcloud.dk/pages/viewpage.action?pageId=41717704"
      ]
    },
    {
      "cell_type": "code",
      "execution_count": 18,
      "id": "7229ff32",
      "metadata": {
        "id": "7229ff32",
        "outputId": "29337060-0a11-4f26-d30f-e8b7858eb45a",
        "colab": {
          "base_uri": "https://localhost:8080/",
          "height": 180
        }
      },
      "outputs": [
        {
          "output_type": "error",
          "ename": "NameError",
          "evalue": "name 'api_key' is not defined",
          "traceback": [
            "\u001b[0;31m---------------------------------------------------------------------------\u001b[0m",
            "\u001b[0;31mNameError\u001b[0m                                 Traceback (most recent call last)",
            "\u001b[0;32m<ipython-input-18-dcaa393cafd0>\u001b[0m in \u001b[0;36m<cell line: 0>\u001b[0;34m()\u001b[0m\n\u001b[1;32m      1\u001b[0m \u001b[0mDMI_URL\u001b[0m \u001b[0;34m=\u001b[0m \u001b[0;34m'https://dmigw.govcloud.dk/v2/metObs/collections/station/items'\u001b[0m\u001b[0;34m\u001b[0m\u001b[0;34m\u001b[0m\u001b[0m\n\u001b[0;32m----> 2\u001b[0;31m \u001b[0mr\u001b[0m \u001b[0;34m=\u001b[0m \u001b[0mrequests\u001b[0m\u001b[0;34m.\u001b[0m\u001b[0mget\u001b[0m\u001b[0;34m(\u001b[0m\u001b[0mDMI_URL\u001b[0m\u001b[0;34m,\u001b[0m \u001b[0mparams\u001b[0m\u001b[0;34m=\u001b[0m\u001b[0;34m{\u001b[0m\u001b[0;34m'api-key'\u001b[0m\u001b[0;34m:\u001b[0m \u001b[0mapi_key\u001b[0m\u001b[0;34m,\u001b[0m \u001b[0;34m\"stationId\"\u001b[0m\u001b[0;34m:\u001b[0m \u001b[0mstationId\u001b[0m\u001b[0;34m}\u001b[0m\u001b[0;34m)\u001b[0m \u001b[0;31m# Issues a HTTP GET request\u001b[0m\u001b[0;34m\u001b[0m\u001b[0;34m\u001b[0m\u001b[0m\n\u001b[0m\u001b[1;32m      3\u001b[0m \u001b[0mr\u001b[0m\u001b[0;34m.\u001b[0m\u001b[0murl\u001b[0m \u001b[0;31m# `requests` help us encode the URL in the correct format\u001b[0m\u001b[0;34m\u001b[0m\u001b[0;34m\u001b[0m\u001b[0m\n",
            "\u001b[0;31mNameError\u001b[0m: name 'api_key' is not defined"
          ]
        }
      ],
      "source": [
        "DMI_URL = 'https://dmigw.govcloud.dk/v2/metObs/collections/station/items'\n",
        "r = requests.get(DMI_URL, params={'api-key': api_key, \"stationId\": stationId}) # Issues a HTTP GET request\n",
        "r.url # `requests` help us encode the URL in the correct format"
      ]
    },
    {
      "cell_type": "code",
      "execution_count": 19,
      "id": "00373ce1",
      "metadata": {
        "id": "00373ce1",
        "outputId": "0b38b1da-deed-45a9-8b84-6c64beccad2a",
        "colab": {
          "base_uri": "https://localhost:8080/",
          "height": 144
        }
      },
      "outputs": [
        {
          "output_type": "error",
          "ename": "NameError",
          "evalue": "name 'r' is not defined",
          "traceback": [
            "\u001b[0;31m---------------------------------------------------------------------------\u001b[0m",
            "\u001b[0;31mNameError\u001b[0m                                 Traceback (most recent call last)",
            "\u001b[0;32m<ipython-input-19-9362f1bbdfc8>\u001b[0m in \u001b[0;36m<cell line: 0>\u001b[0;34m()\u001b[0m\n\u001b[0;32m----> 1\u001b[0;31m \u001b[0mr\u001b[0m\u001b[0;34m.\u001b[0m\u001b[0mstatus_code\u001b[0m \u001b[0;31m# 200 means success\u001b[0m\u001b[0;34m\u001b[0m\u001b[0;34m\u001b[0m\u001b[0m\n\u001b[0m",
            "\u001b[0;31mNameError\u001b[0m: name 'r' is not defined"
          ]
        }
      ],
      "source": [
        "r.status_code # 200 means success"
      ]
    },
    {
      "cell_type": "code",
      "execution_count": null,
      "id": "a56d84dd",
      "metadata": {
        "id": "a56d84dd"
      },
      "outputs": [],
      "source": [
        "station = r.json()\n",
        "station"
      ]
    },
    {
      "cell_type": "code",
      "execution_count": null,
      "id": "07822bfa",
      "metadata": {
        "id": "07822bfa"
      },
      "outputs": [],
      "source": [
        "DMI_URL = 'https://dmigw.govcloud.dk/v2/metObs/collections/observation/items'\n",
        "r = requests.get(DMI_URL, params={'api-key': api_key, \"stationId\": '06074', 'period': 'latest-day', 'parameterId': 'temp_dry'}) # Issues a HTTP GET request\n",
        "print(r)"
      ]
    },
    {
      "cell_type": "code",
      "execution_count": null,
      "id": "4cd6b202",
      "metadata": {
        "scrolled": true,
        "id": "4cd6b202"
      },
      "outputs": [],
      "source": [
        "dmi = r.json()  # Extract JSON data\n",
        "dmi  # Print the keys of the JSON dictionary"
      ]
    },
    {
      "cell_type": "markdown",
      "id": "79d87f77",
      "metadata": {
        "id": "79d87f77"
      },
      "source": [
        "JSON object will be converted into a `dict` type, which is the data structure in Python holding key value pairs. To access certain values, we just access them like a `dict`."
      ]
    },
    {
      "cell_type": "code",
      "execution_count": null,
      "id": "3a5c215a",
      "metadata": {
        "id": "3a5c215a"
      },
      "outputs": [],
      "source": [
        "dmi['features']"
      ]
    },
    {
      "cell_type": "code",
      "execution_count": null,
      "id": "fc40ac93",
      "metadata": {
        "id": "fc40ac93"
      },
      "outputs": [],
      "source": [
        "dmi['features'][0]"
      ]
    },
    {
      "cell_type": "code",
      "execution_count": null,
      "id": "91bbaafd",
      "metadata": {
        "id": "91bbaafd"
      },
      "outputs": [],
      "source": [
        "dmi['features'][0]['properties']"
      ]
    },
    {
      "cell_type": "code",
      "execution_count": null,
      "id": "f4afa53f",
      "metadata": {
        "id": "f4afa53f"
      },
      "outputs": [],
      "source": [
        "dmi['features'][0]['properties']['value']"
      ]
    },
    {
      "cell_type": "code",
      "execution_count": null,
      "id": "99cffc1f",
      "metadata": {
        "id": "99cffc1f"
      },
      "outputs": [],
      "source": [
        "for feature in dmi['features']:\n",
        "    for key, value in feature['properties'].items():\n",
        "         print(key, value)"
      ]
    },
    {
      "cell_type": "markdown",
      "id": "7634fccb",
      "metadata": {
        "id": "7634fccb"
      },
      "source": [
        "Now it gets interesting, as we can put the values into a dataframe (more on dataframes later)."
      ]
    },
    {
      "cell_type": "code",
      "execution_count": null,
      "id": "7e491c23",
      "metadata": {
        "id": "7e491c23"
      },
      "outputs": [],
      "source": [
        "import pandas as pd\n",
        "\n",
        "lst = []\n",
        "\n",
        "for values in dmi['features']:\n",
        "    lst.append(pd.DataFrame.from_dict(values['properties'], orient='index').transpose())"
      ]
    },
    {
      "cell_type": "code",
      "execution_count": null,
      "id": "40719a5e",
      "metadata": {
        "id": "40719a5e"
      },
      "outputs": [],
      "source": [
        "df = pd.concat(lst).reset_index()"
      ]
    },
    {
      "cell_type": "code",
      "execution_count": null,
      "id": "d389bd79",
      "metadata": {
        "id": "d389bd79"
      },
      "outputs": [],
      "source": [
        "df"
      ]
    },
    {
      "cell_type": "markdown",
      "id": "f2fd2226-1bad-4816-9379-4d5a35019f23",
      "metadata": {
        "id": "f2fd2226-1bad-4816-9379-4d5a35019f23"
      },
      "source": [
        "### HTTP API"
      ]
    },
    {
      "cell_type": "markdown",
      "id": "f8bcfbac-3576-4ba8-9bf5-2984222b9366",
      "metadata": {
        "id": "f8bcfbac-3576-4ba8-9bf5-2984222b9366"
      },
      "source": [
        "An example from Open Data DK\n",
        "https://www.opendata.dk/syddjurs-kommune/indeklima-administrationsbygningen-i-hornslet1"
      ]
    },
    {
      "cell_type": "code",
      "execution_count": null,
      "id": "53cc441a-6ef2-402c-be45-97cf1dce1a24",
      "metadata": {
        "id": "53cc441a-6ef2-402c-be45-97cf1dce1a24"
      },
      "outputs": [],
      "source": [
        "import requests\n",
        "import pandas as pd"
      ]
    },
    {
      "cell_type": "code",
      "execution_count": null,
      "id": "f72d15d5-07d9-4620-b224-fc77cfc1f202",
      "metadata": {
        "scrolled": true,
        "id": "f72d15d5-07d9-4620-b224-fc77cfc1f202"
      },
      "outputs": [],
      "source": [
        "r = requests.get('https://os2iot-backend.prod.os2iot.kmd.dk/api/v1/open-data-dk-sharing/22/data/22')\n",
        "r.json()"
      ]
    },
    {
      "cell_type": "code",
      "execution_count": null,
      "id": "d89eb440-e395-43b1-85e4-5d704815a3e6",
      "metadata": {
        "id": "d89eb440-e395-43b1-85e4-5d704815a3e6"
      },
      "outputs": [],
      "source": [
        "schema = r.json()[0][0].keys()\n",
        "df = pd.DataFrame(columns=schema)\n",
        "df['time'] = []\n",
        "\n",
        "for t in r.json():\n",
        "    for i in t:\n",
        "        df.loc[len(df.index)] = [\n",
        "            i['id'],\n",
        "            i['type'],\n",
        "            i['name']['value'],\n",
        "            i['temperature']['value'],\n",
        "            i['humidity']['value'],\n",
        "            i['light_level']['value'],\n",
        "            i['motion']['value'],\n",
        "            i['co2']['value'],\n",
        "            i['location']['value']['coordinates'],\n",
        "            i['temperature']['observedAt'],\n",
        "        ]"
      ]
    },
    {
      "cell_type": "code",
      "execution_count": null,
      "id": "e031ca1d-818e-4534-bd70-298d176be602",
      "metadata": {
        "id": "e031ca1d-818e-4534-bd70-298d176be602"
      },
      "outputs": [],
      "source": [
        "df"
      ]
    },
    {
      "cell_type": "markdown",
      "id": "1826346b-cc49-4bfd-a903-6a144a6505f6",
      "metadata": {
        "id": "1826346b-cc49-4bfd-a903-6a144a6505f6"
      },
      "source": [
        "An example from Open Data DK\n",
        "https://www.opendata.dk/city-of-aarhus/transaktionsdata-fra-aarhus-kommunes-biblioteker"
      ]
    },
    {
      "cell_type": "code",
      "execution_count": null,
      "id": "537fadb4-4a79-442f-ba8a-59e75c4ef0c1",
      "metadata": {
        "id": "537fadb4-4a79-442f-ba8a-59e75c4ef0c1"
      },
      "outputs": [],
      "source": [
        "url = 'https://admin.opendata.dk/api/3/action/datastore_search?resource_id=5b9b00f9-543e-4ac0-994c-dbbc8b38e7e5'\n",
        "r = requests.get(url)\n",
        "r.json()"
      ]
    },
    {
      "cell_type": "code",
      "execution_count": null,
      "id": "37a3852f-2b3e-4c24-af9d-01c65f847442",
      "metadata": {
        "id": "37a3852f-2b3e-4c24-af9d-01c65f847442"
      },
      "outputs": [],
      "source": [
        "# Using sql in query for filtering\n",
        "sql_url = 'https://admin.opendata.dk/api/3/action/datastore_search_sql?sql=SELECT * from \"5b9b00f9-543e-4ac0-994c-dbbc8b38e7e5\" WHERE id=3'\n",
        "r = requests.get(sql_url)\n",
        "r.json()"
      ]
    },
    {
      "cell_type": "markdown",
      "id": "b33356c0",
      "metadata": {
        "id": "b33356c0"
      },
      "source": [
        "return to [overview](../00_overview.ipynb)"
      ]
    },
    {
      "cell_type": "code",
      "execution_count": null,
      "id": "58f42d9f-1480-4f26-b304-928242294c4e",
      "metadata": {
        "id": "58f42d9f-1480-4f26-b304-928242294c4e"
      },
      "outputs": [],
      "source": []
    }
  ],
  "metadata": {
    "kernelspec": {
      "display_name": "Python 3 (ipykernel)",
      "language": "python",
      "name": "python3"
    },
    "language_info": {
      "codemirror_mode": {
        "name": "ipython",
        "version": 3
      },
      "file_extension": ".py",
      "mimetype": "text/x-python",
      "name": "python",
      "nbconvert_exporter": "python",
      "pygments_lexer": "ipython3",
      "version": "3.11.9"
    },
    "colab": {
      "provenance": []
    }
  },
  "nbformat": 4,
  "nbformat_minor": 5
}